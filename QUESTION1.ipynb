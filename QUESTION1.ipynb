//Naive Bayes

from sklearn.feature_extraction.text import CountVectorizer
from sklearn.naive_bayes import MultinomialNB
from sklearn.metrics import accuracy_score, classification_report
from sklearn.model_selection import train_test_split
from datasets import load_dataset

dataset = load_dataset("C:/Users/theer/Downloads/dummy_data")

# Display the available columns in the dataset
print(dataset["train"].column_names)


X = dataset["train"]["text"]
y = dataset["train"]["text"]

X_train, X_test, y_train, y_test = train_test_split(X, y, test_size=0.2, random_state=42)

vectorizer = CountVectorizer()
X_train_vectorized = vectorizer.fit_transform(X_train)
X_test_vectorized = vectorizer.transform(X_test)

nb_classifier = MultinomialNB()
nb_classifier.fit(X_train_vectorized, y_train)

nb_predictions = nb_classifier.predict(X_test_vectorized)

accuracy_nb = accuracy_score(y_test, nb_predictions)
report_nb = classification_report(y_test, nb_predictions)

print("Naive Bayes Accuracy:", accuracy_nb)
print("Naive Bayes Classification Report:\n", report_nb)




//SVM

from sklearn.feature_extraction.text import TfidfVectorizer
from sklearn.svm import SVC
from sklearn.metrics import accuracy_score, classification_report
from sklearn.model_selection import train_test_split
from sklearn.model_selection import train_test_split
from datasets import load_dataset

dataset = load_dataset("C:/Users/theer/Downloads/dummy_data")

X = dataset["train"]["text"]
y = dataset["train"]["text"]

X_train, X_test, y_train, y_test = train_test_split(X, y, test_size=0.2, random_state=42)

vectorizer = TfidfVectorizer()
X_train_vectorized = vectorizer.fit_transform(X_train)
X_test_vectorized = vectorizer.transform(X_test)

svm_classifier = SVC()
svm_classifier.fit(X_train_vectorized, y_train)

svm_predictions = svm_classifier.predict(X_test_vectorized)

accuracy_svm = accuracy_score(y_test, svm_predictions)
report_svm = classification_report(y_test, svm_predictions)

print("SVM Accuracy:", accuracy_svm)
print("SVM Classification Report:\n", report_svm)




//BI-LSTM


import tensorflow as tf
from tensorflow.keras.models import Sequential
from tensorflow.keras.layers import Embedding, Bidirectional, LSTM, Dense
from datasets import load_dataset


dataset = load_dataset("C:/Users/theer/Downloads/dummy_data")

X = dataset["train"]["text"]
y = dataset["train"]["text"]

# Convert labels to numerical values
label_encoder = LabelEncoder()
y = label_encoder.fit_transform(y)

# Tokenize and pad text data
tokenizer = Tokenizer()
tokenizer.fit_on_texts(X)
X_sequences = tokenizer.texts_to_sequences(X)
X_padded = pad_sequences(X_sequences)

X_train, X_test, y_train, y_test = train_test_split(X_padded, y, test_size=0.2, random_state=42)


# Build Bi-LSTM model
model = Sequential([
    Embedding(input_dim=len(tokenizer.word_index) + 1, output_dim=50, input_length=X_padded.shape[1]),
    Bidirectional(LSTM(64)),
    Dense(1, activation='sigmoid')
])

model.compile(loss='binary_crossentropy', optimizer='adam', metrics=['accuracy'])


model.summary()


model.fit(X_train, y_train, epochs=5, batch_size=32, validation_data=(X_test, y_test))


